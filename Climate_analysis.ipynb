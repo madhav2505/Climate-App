{
 "cells": [
  {
   "cell_type": "code",
   "execution_count": 6,
   "metadata": {
    "collapsed": true
   },
   "outputs": [],
   "source": [
    "# add dependencies\n",
    "import pandas as pd\n",
    "import os\n",
    "import datetime\n",
    "import matplotlib.pyplot as plt\n",
    "import numpy as np\n",
    "import time\n",
    "from sqlalchemy import create_engine\n",
    "from sqlalchemy.ext.automap import automap_base\n",
    "from sqlalchemy.orm import Session\n",
    "from sqlalchemy import Column, Integer, String, Float, and_, Date, desc, func"
   ]
  },
  {
   "cell_type": "code",
   "execution_count": 68,
   "metadata": {},
   "outputs": [
    {
     "name": "stdout",
     "output_type": "stream",
     "text": [
      "Enter a start date for your trip in YYYY-MM-DD format: 2017-05-23\n",
      "Enter an end date for your trip in YYYY-MM-DD format: 2017-06-03\n"
     ]
    }
   ],
   "source": [
    "# collect the start and end dates of the trips\n",
    "date_entry = input('Enter a start date for your trip in YYYY-MM-DD format: ')\n",
    "year, month, day = map(int, date_entry.split('-'))\n",
    "start_date = datetime.date(year, month, day)\n",
    "\n",
    "date_entry = input('Enter an end date for your trip in YYYY-MM-DD format: ')\n",
    "year, month, day = map(int, date_entry.split('-'))\n",
    "end_date = datetime.date(year, month, day)"
   ]
  },
  {
   "cell_type": "code",
   "execution_count": 69,
   "metadata": {},
   "outputs": [],
   "source": [
    "# Use create the engine and assign classes\n",
    "engine = create_engine(\"sqlite:///hawaii.sqlite\")\n",
    "\n",
    "# Declare a Base using `automap_base()`\n",
    "Base = automap_base()\n",
    "\n",
    "# Use the Base class to reflect the database tables\n",
    "Base.prepare(engine, reflect=True)\n",
    "\n",
    "Station = Base.classes.stations\n",
    "Measurement = Base.classes.measurements\n",
    "\n",
    "session = Session(engine)"
   ]
  },
  {
   "cell_type": "code",
   "execution_count": 82,
   "metadata": {},
   "outputs": [
    {
     "data": {
      "text/html": [
       "<div>\n",
       "<style>\n",
       "    .dataframe thead tr:only-child th {\n",
       "        text-align: right;\n",
       "    }\n",
       "\n",
       "    .dataframe thead th {\n",
       "        text-align: left;\n",
       "    }\n",
       "\n",
       "    .dataframe tbody tr th {\n",
       "        vertical-align: top;\n",
       "    }\n",
       "</style>\n",
       "<table border=\"1\" class=\"dataframe\">\n",
       "  <thead>\n",
       "    <tr style=\"text-align: right;\">\n",
       "      <th></th>\n",
       "      <th>precipitation</th>\n",
       "    </tr>\n",
       "    <tr>\n",
       "      <th>date</th>\n",
       "      <th></th>\n",
       "    </tr>\n",
       "  </thead>\n",
       "  <tbody>\n",
       "    <tr>\n",
       "      <th>2016-06-03</th>\n",
       "      <td>0.00</td>\n",
       "    </tr>\n",
       "    <tr>\n",
       "      <th>2016-06-04</th>\n",
       "      <td>0.00</td>\n",
       "    </tr>\n",
       "    <tr>\n",
       "      <th>2016-06-05</th>\n",
       "      <td>0.00</td>\n",
       "    </tr>\n",
       "    <tr>\n",
       "      <th>2016-06-06</th>\n",
       "      <td>0.00</td>\n",
       "    </tr>\n",
       "    <tr>\n",
       "      <th>2016-06-07</th>\n",
       "      <td>0.01</td>\n",
       "    </tr>\n",
       "  </tbody>\n",
       "</table>\n",
       "</div>"
      ],
      "text/plain": [
       "            precipitation\n",
       "date                     \n",
       "2016-06-03           0.00\n",
       "2016-06-04           0.00\n",
       "2016-06-05           0.00\n",
       "2016-06-06           0.00\n",
       "2016-06-07           0.01"
      ]
     },
     "execution_count": 82,
     "metadata": {},
     "output_type": "execute_result"
    }
   ],
   "source": [
    "# get the date 1 year ago\n",
    "year_ago = end_date - datetime.timedelta(365)\n",
    "#print (year_ago)\n",
    "\n",
    "pcp_year = session.query(Measurement.date, Measurement.prcp).filter(and_(Measurement.date <= end_date,\n",
    "                                                                        Measurement.date >= year_ago)).all()\n",
    "\n",
    "# create the dataframe and set date as the index\n",
    "pcp_df = pd.DataFrame(pcp_year, columns=[\"date\", \"precipitation\"])\n",
    "pcp_df.set_index('date', inplace=True)\n",
    "pcp_df.head()"
   ]
  },
  {
   "cell_type": "code",
   "execution_count": 83,
   "metadata": {},
   "outputs": [
    {
     "data": {
      "text/html": [
       "<div>\n",
       "<style>\n",
       "    .dataframe thead tr:only-child th {\n",
       "        text-align: right;\n",
       "    }\n",
       "\n",
       "    .dataframe thead th {\n",
       "        text-align: left;\n",
       "    }\n",
       "\n",
       "    .dataframe tbody tr th {\n",
       "        vertical-align: top;\n",
       "    }\n",
       "</style>\n",
       "<table border=\"1\" class=\"dataframe\">\n",
       "  <thead>\n",
       "    <tr style=\"text-align: right;\">\n",
       "      <th></th>\n",
       "      <th>precipitation</th>\n",
       "    </tr>\n",
       "  </thead>\n",
       "  <tbody>\n",
       "    <tr>\n",
       "      <th>count</th>\n",
       "      <td>2060.000000</td>\n",
       "    </tr>\n",
       "    <tr>\n",
       "      <th>mean</th>\n",
       "      <td>0.213845</td>\n",
       "    </tr>\n",
       "    <tr>\n",
       "      <th>std</th>\n",
       "      <td>0.571187</td>\n",
       "    </tr>\n",
       "    <tr>\n",
       "      <th>min</th>\n",
       "      <td>0.000000</td>\n",
       "    </tr>\n",
       "    <tr>\n",
       "      <th>25%</th>\n",
       "      <td>0.000000</td>\n",
       "    </tr>\n",
       "    <tr>\n",
       "      <th>50%</th>\n",
       "      <td>0.020000</td>\n",
       "    </tr>\n",
       "    <tr>\n",
       "      <th>75%</th>\n",
       "      <td>0.160000</td>\n",
       "    </tr>\n",
       "    <tr>\n",
       "      <th>max</th>\n",
       "      <td>9.640000</td>\n",
       "    </tr>\n",
       "  </tbody>\n",
       "</table>\n",
       "</div>"
      ],
      "text/plain": [
       "       precipitation\n",
       "count    2060.000000\n",
       "mean        0.213845\n",
       "std         0.571187\n",
       "min         0.000000\n",
       "25%         0.000000\n",
       "50%         0.020000\n",
       "75%         0.160000\n",
       "max         9.640000"
      ]
     },
     "execution_count": 83,
     "metadata": {},
     "output_type": "execute_result"
    }
   ],
   "source": [
    "pcp_df.describe()"
   ]
  },
  {
   "cell_type": "code",
   "execution_count": 84,
   "metadata": {},
   "outputs": [
    {
     "data": {
      "image/png": "[encoded data removed]",
      "text/plain": [
       "<matplotlib.figure.Figure at 0x26955412cf8>"
      ]
     },
     "metadata": {},
     "output_type": "display_data"
    }
   ],
   "source": [
    "pcp_df.iloc[::-1].plot(color = \"red\")\n",
    "plt.xlabel(\"Date\")\n",
    "plt.xticks(rotation =45)\n",
    "plt.ylabel(\"Precipitation\")\n",
    "plt.title(\"Precipitation from %s to %s\" %(year_ago,end_date))\n",
    "plt.show()"
   ]
  },
  {
   "cell_type": "code",
   "execution_count": 85,
   "metadata": {},
   "outputs": [
    {
     "name": "stdout",
     "output_type": "stream",
     "text": [
      "The number of stations is: 9\n"
     ]
    }
   ],
   "source": [
    "# calculate the number of stations\n",
    "num_stations = session.query(Station.station).count()\n",
    "print(\"The number of stations is: %s\" % num_stations)"
   ]
  },
  {
   "cell_type": "code",
   "execution_count": 86,
   "metadata": {},
   "outputs": [
    {
     "name": "stdout",
     "output_type": "stream",
     "text": [
      "The most active station is: USC00519281\n",
      "Number of observations for station USC00519281: 2772\n"
     ]
    }
   ],
   "source": [
    "# find the most active station\n",
    "act_stations = session.query(Measurement.station, func.count(Measurement.date)).group_by(Measurement.station).order_by(desc(func.count(Measurement.date))).all()\n",
    "\n",
    "most_active = act_stations[0][0]\n",
    "num_observations = act_stations[0][1]\n",
    "\n",
    "print(\"The most active station is: %s\" % most_active)\n",
    "print(\"Number of observations for station %s: %s\" % (most_active, num_observations))"
   ]
  },
  {
   "cell_type": "code",
   "execution_count": 87,
   "metadata": {},
   "outputs": [],
   "source": [
    "# get the last 12 months of temperature data\n",
    "temp_year = session.query(Measurement.date, Measurement.tobs).filter(and_(Measurement.date <= end_date,\n",
    "                                                                        Measurement.date >= year_ago,\n",
    "                                                                         Measurement.station == most_active)).all()\n",
    "\n",
    "# create the dataframe and set date as the index\n",
    "temp_df = pd.DataFrame(temp_year, columns = [\"date\", \"temperature\"])\n",
    "temp_df.set_index('date', inplace=True)"
   ]
  },
  {
   "cell_type": "code",
   "execution_count": 88,
   "metadata": {},
   "outputs": [
    {
     "data": {
      "image/png": "[encoded data removed]",
      "text/plain": [
       "<matplotlib.figure.Figure at 0x2695314a160>"
      ]
     },
     "metadata": {},
     "output_type": "display_data"
    }
   ],
   "source": [
    "# create a histogram of the temperature data\n",
    "temp_df.iloc[::-1].plot.hist(title=\"Temperature from %s to %s\" % (year_ago, end_date), bins = 12,color=\"red\")\n",
    "plt.tight_layout()\n",
    "plt.xlabel(\"Temperature\")\n",
    "plt.show()"
   ]
  },
  {
   "cell_type": "code",
   "execution_count": 103,
   "metadata": {},
   "outputs": [],
   "source": [
    "def calc_temps(start, end):\n",
    "    # calculate the date 1 year ago\n",
    "    one_year = end - datetime.timedelta(365)\n",
    "    \n",
    "    # get the maximum temperature\n",
    "    max_temp = session.query(func.max(Measurement.tobs)).filter(and_(Measurement.date <= end, Measurement.date >= one_year)).all()\n",
    "    maximum = max_temp[0][0]\n",
    "    \n",
    "    # get the minimum temperature\n",
    "    min_temp = session.query(func.min(Measurement.tobs)).filter(and_(Measurement.date <= end, Measurement.date >= one_year)).all()\n",
    "    minimum = min_temp[0][0]\n",
    "    \n",
    "    # get the average temperature\n",
    "    avg_temp = session.query(func.avg(Measurement.tobs)).filter(and_(Measurement.date <= end, Measurement.date >= one_year)).all()\n",
    "    average = avg_temp[0][0]\n",
    "    # create the plot\n",
    "    objects = [str(end)]\n",
    "    x_axis = np.arange(len(objects))\n",
    "    fig, ax = plt.subplots()\n",
    "    temp_plot = ax.bar(x_axis, average, yerr=(maximum-minimum), color = \"orange\", alpha = .50, width = .65)\n",
    "    tick_locations = [value for value in x_axis]\n",
    "    plt.xticks(tick_locations, [])\n",
    "    plt.xlim(-1, len(x_axis))\n",
    "    plt.title(\"Trip Avg Temp\")\n",
    "    plt.ylabel(\"Temp (F)\")\n",
    "    plt.tight_layout()\n",
    "    plt.show()"
   ]
  },
  {
   "cell_type": "code",
   "execution_count": 104,
   "metadata": {},
   "outputs": [
    {
     "data": {
      "image/png": "[encoded data removed]",
      "text/plain": [
       "<matplotlib.figure.Figure at 0x269565811d0>"
      ]
     },
     "metadata": {},
     "output_type": "display_data"
    }
   ],
   "source": [
    "# call the function\n",
    "calc_temps(start_date, end_date)"
   ]
  },
  {
   "cell_type": "code",
   "execution_count": 97,
   "metadata": {},
   "outputs": [
    {
     "data": {
      "text/html": [
       "<div>\n",
       "<style>\n",
       "    .dataframe thead tr:only-child th {\n",
       "        text-align: right;\n",
       "    }\n",
       "\n",
       "    .dataframe thead th {\n",
       "        text-align: left;\n",
       "    }\n",
       "\n",
       "    .dataframe tbody tr th {\n",
       "        vertical-align: top;\n",
       "    }\n",
       "</style>\n",
       "<table border=\"1\" class=\"dataframe\">\n",
       "  <thead>\n",
       "    <tr style=\"text-align: right;\">\n",
       "      <th></th>\n",
       "      <th>Station</th>\n",
       "      <th>Total Precipitation from 2016-06-03 to 2017-06-03</th>\n",
       "    </tr>\n",
       "  </thead>\n",
       "  <tbody>\n",
       "    <tr>\n",
       "      <th>0</th>\n",
       "      <td>USC00511918</td>\n",
       "      <td>92.68</td>\n",
       "    </tr>\n",
       "    <tr>\n",
       "      <th>1</th>\n",
       "      <td>USC00513117</td>\n",
       "      <td>382.62</td>\n",
       "    </tr>\n",
       "    <tr>\n",
       "      <th>2</th>\n",
       "      <td>USC00514830</td>\n",
       "      <td>234.49</td>\n",
       "    </tr>\n",
       "    <tr>\n",
       "      <th>3</th>\n",
       "      <td>USC00516128</td>\n",
       "      <td>1068.09</td>\n",
       "    </tr>\n",
       "    <tr>\n",
       "      <th>4</th>\n",
       "      <td>USC00517948</td>\n",
       "      <td>43.44</td>\n",
       "    </tr>\n",
       "    <tr>\n",
       "      <th>5</th>\n",
       "      <td>USC00518838</td>\n",
       "      <td>70.87</td>\n",
       "    </tr>\n",
       "    <tr>\n",
       "      <th>6</th>\n",
       "      <td>USC00519281</td>\n",
       "      <td>588.64</td>\n",
       "    </tr>\n",
       "    <tr>\n",
       "      <th>7</th>\n",
       "      <td>USC00519397</td>\n",
       "      <td>131.62</td>\n",
       "    </tr>\n",
       "    <tr>\n",
       "      <th>8</th>\n",
       "      <td>USC00519523</td>\n",
       "      <td>295.68</td>\n",
       "    </tr>\n",
       "  </tbody>\n",
       "</table>\n",
       "</div>"
      ],
      "text/plain": [
       "       Station  Total Precipitation from 2016-06-03 to 2017-06-03\n",
       "0  USC00511918                                              92.68\n",
       "1  USC00513117                                             382.62\n",
       "2  USC00514830                                             234.49\n",
       "3  USC00516128                                            1068.09\n",
       "4  USC00517948                                              43.44\n",
       "5  USC00518838                                              70.87\n",
       "6  USC00519281                                             588.64\n",
       "7  USC00519397                                             131.62\n",
       "8  USC00519523                                             295.68"
      ]
     },
     "execution_count": 97,
     "metadata": {},
     "output_type": "execute_result"
    }
   ],
   "source": [
    "# calcualte rainfall per weather station using previous year's matching date\n",
    "total_prcp = session.query(Measurement.station, func.sum(Measurement.prcp)).group_by(Measurement.station).all()\n",
    "\n",
    "total_prcp_df = pd.DataFrame(total_prcp, columns=[\"Station\", \"Total Precipitation from %s to %s\" % (year_ago, end_date)])\n",
    "total_prcp_df.head(num_stations)"
   ]
  },
  {
   "cell_type": "code",
   "execution_count": 99,
   "metadata": {},
   "outputs": [
    {
     "data": {
      "text/html": [
       "<div>\n",
       "<style>\n",
       "    .dataframe thead tr:only-child th {\n",
       "        text-align: right;\n",
       "    }\n",
       "\n",
       "    .dataframe thead th {\n",
       "        text-align: left;\n",
       "    }\n",
       "\n",
       "    .dataframe tbody tr th {\n",
       "        vertical-align: top;\n",
       "    }\n",
       "</style>\n",
       "<table border=\"1\" class=\"dataframe\">\n",
       "  <thead>\n",
       "    <tr style=\"text-align: right;\">\n",
       "      <th></th>\n",
       "      <th>Date</th>\n",
       "      <th>tavg</th>\n",
       "      <th>tmax</th>\n",
       "      <th>tmin</th>\n",
       "    </tr>\n",
       "  </thead>\n",
       "  <tbody>\n",
       "    <tr>\n",
       "      <th>0</th>\n",
       "      <td>2017-05-23</td>\n",
       "      <td>74.890909</td>\n",
       "      <td>87</td>\n",
       "      <td>68</td>\n",
       "    </tr>\n",
       "    <tr>\n",
       "      <th>1</th>\n",
       "      <td>2017-05-24</td>\n",
       "      <td>74.145455</td>\n",
       "      <td>79</td>\n",
       "      <td>69</td>\n",
       "    </tr>\n",
       "    <tr>\n",
       "      <th>2</th>\n",
       "      <td>2017-05-25</td>\n",
       "      <td>74.210526</td>\n",
       "      <td>79</td>\n",
       "      <td>68</td>\n",
       "    </tr>\n",
       "    <tr>\n",
       "      <th>3</th>\n",
       "      <td>2017-05-26</td>\n",
       "      <td>74.076923</td>\n",
       "      <td>82</td>\n",
       "      <td>65</td>\n",
       "    </tr>\n",
       "    <tr>\n",
       "      <th>4</th>\n",
       "      <td>2017-05-27</td>\n",
       "      <td>74.442308</td>\n",
       "      <td>80</td>\n",
       "      <td>65</td>\n",
       "    </tr>\n",
       "  </tbody>\n",
       "</table>\n",
       "</div>"
      ],
      "text/plain": [
       "         Date       tavg  tmax  tmin\n",
       "0  2017-05-23  74.890909    87    68\n",
       "1  2017-05-24  74.145455    79    69\n",
       "2  2017-05-25  74.210526    79    68\n",
       "3  2017-05-26  74.076923    82    65\n",
       "4  2017-05-27  74.442308    80    65"
      ]
     },
     "execution_count": 99,
     "metadata": {},
     "output_type": "execute_result"
    }
   ],
   "source": [
    "\n",
    "# calculate daily normals\n",
    "def daily_normals(day):\n",
    "    s_month = day.strftime('%m')\n",
    "    s_day = day.strftime('%d')\n",
    "    \n",
    "    # get the maximum temperature\n",
    "    max_temp = session.query(func.max(Measurement.tobs)).filter(Measurement.date.like(\"%%%%-\"+ s_month + \"-\" + s_day)).all()\n",
    "    maximum = max_temp[0][0]\n",
    "    \n",
    "    # get the minimum temperature\n",
    "    min_temp = session.query(func.min(Measurement.tobs)).filter(Measurement.date.like(\"%%%%-\"+ s_month + \"-\" + s_day)).all()\n",
    "    minimum = min_temp[0][0]\n",
    "    \n",
    "    # get the average temperature\n",
    "    avg_temp = session.query(func.avg(Measurement.tobs)).filter(Measurement.date.like(\"%%%%-\"+ s_month + \"-\" + s_day)).all()\n",
    "    average = avg_temp[0][0]\n",
    "    \n",
    "    return maximum, minimum, average\n",
    "\n",
    "# get the range of dates for the chart\n",
    "start = start_date\n",
    "delta = datetime.timedelta(days=1)\n",
    "date_range = []\n",
    "while start <= end_date:\n",
    "    date_range.append(start)\n",
    "    start += delta\n",
    "\n",
    "# get the max/min/avg of each day\n",
    "ranges = []\n",
    "date_data = {}\n",
    "\n",
    "# get the max/min/avg for each day using a for loop, store in dict\n",
    "for date in date_range:\n",
    "    m,mi,av = daily_normals(date)\n",
    "    ranges.append({\"Date\": date, \"tmax\": m, \"tmin\": mi, \"tavg\":av})\n",
    "    \n",
    "# create dataframe from dict\n",
    "date_df = pd.DataFrame(ranges)\n",
    "\n",
    "date_df.head()"
   ]
  },
  {
   "cell_type": "code",
   "execution_count": 105,
   "metadata": {},
   "outputs": [
    {
     "data": {
      "image/png": "[encoded data removed]",
      "text/plain": [
       "<matplotlib.figure.Figure at 0x269533732b0>"
      ]
     },
     "metadata": {},
     "output_type": "display_data"
    }
   ],
   "source": [
    "# make the area plot\n",
    "date_df.plot.area(x = date_df[\"Date\"], stacked = False, colormap='RdYlBu')\n",
    "plt.xticks(rotation=45)\n",
    "plt.ylabel(\"Temp (F)\")\n",
    "plt.show()"
   ]
  },
  {
   "cell_type": "code",
   "execution_count": null,
   "metadata": {
    "collapsed": true
   },
   "outputs": [],
   "source": []
  }
 ],
 "metadata": {
  "kernelspec": {
   "display_name": "Python 3",
   "language": "python",
   "name": "python3"
  },
  "language_info": {
   "codemirror_mode": {
    "name": "ipython",
    "version": 3
   },
   "file_extension": ".py",
   "mimetype": "text/x-python",
   "name": "python",
   "nbconvert_exporter": "python",
   "pygments_lexer": "ipython3",
   "version": "3.6.3"
  }
 },
 "nbformat": 4,
 "nbformat_minor": 2
}
